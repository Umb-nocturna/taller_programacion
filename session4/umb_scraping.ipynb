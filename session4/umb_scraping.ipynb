{
  "nbformat": 4,
  "nbformat_minor": 0,
  "metadata": {
    "colab": {
      "provenance": []
    },
    "kernelspec": {
      "name": "python3",
      "display_name": "Python 3"
    },
    "language_info": {
      "name": "python"
    }
  },
  "cells": [
    {
      "cell_type": "markdown",
      "source": [
        "## Step 1: Inslación de librerias"
      ],
      "metadata": {
        "id": "AbBKAghQVQd6"
      }
    },
    {
      "cell_type": "code",
      "execution_count": 69,
      "metadata": {
        "colab": {
          "base_uri": "https://localhost:8080/"
        },
        "id": "1UpCBJjCE9wJ",
        "outputId": "b39b3755-07d6-46a9-c7da-a09da56e2eca"
      },
      "outputs": [
        {
          "output_type": "stream",
          "name": "stdout",
          "text": [
            "Requirement already satisfied: tqdm in /usr/local/lib/python3.10/dist-packages (4.66.1)\n"
          ]
        }
      ],
      "source": [
        "#install\n",
        "!pip install beautifulsoup4\n",
        "!pip install requests\n",
        "!pip install tqdm"
      ]
    },
    {
      "cell_type": "code",
      "source": [
        "import bs4 as bs\n",
        "import requests\n",
        "from tqdm import tqdm\n",
        "import pandas as pd\n",
        "from google.colab import drive"
      ],
      "metadata": {
        "id": "yZLT_DiOFLU7"
      },
      "execution_count": 73,
      "outputs": []
    },
    {
      "cell_type": "markdown",
      "source": [],
      "metadata": {
        "id": "-pR_UP64Wro1"
      }
    },
    {
      "cell_type": "markdown",
      "source": [
        "## Step 2: Extraccion de Datos / Scraping"
      ],
      "metadata": {
        "id": "aoukVN_kVbOE"
      }
    },
    {
      "cell_type": "code",
      "source": [
        "url = \"https://www.elespectador.com/bogota/\""
      ],
      "metadata": {
        "id": "frHTVs50FehD"
      },
      "execution_count": 39,
      "outputs": []
    },
    {
      "cell_type": "code",
      "source": [
        "resp = requests.get(url)\n",
        "resp = resp.text                       # fetch the HTML data\n",
        "soup = bs.BeautifulSoup(resp, 'lxml')  # convert to BeautifulSoup-type object to work with HTML efficiently\n",
        "                                       # lxml allows easy handling of HTML files/objects\n",
        "table = soup.find('div', {'class': 'Block'})  # 'wikitable sortable jquery-tablesorter' class does not appear\n",
        "                                                             # when navigating the website until the column is sorted,\n",
        "                                                             # so we should not use 'jquery-tablesorter'"
      ],
      "metadata": {
        "id": "E9dSWGN0Fm3Z"
      },
      "execution_count": 47,
      "outputs": []
    },
    {
      "cell_type": "code",
      "source": [
        "print(table)"
      ],
      "metadata": {
        "id": "0YpcER7TGGQk"
      },
      "execution_count": null,
      "outputs": []
    },
    {
      "cell_type": "code",
      "source": [
        "titles = []\n",
        "links = []\n",
        "for row in tqdm(table.findAll('h2')[1:]):\n",
        "  title = row.findAll('a')[0].text\n",
        "  link = row.find_all('a')[0].get(\"href\")\n",
        "  titles.append(title)\n",
        "  links.append(link)\n",
        "  print(row)"
      ],
      "metadata": {
        "id": "kK_Wr90VF5ZP"
      },
      "execution_count": null,
      "outputs": []
    },
    {
      "cell_type": "code",
      "source": [
        "print(titles)\n",
        "print(links)"
      ],
      "metadata": {
        "id": "N4rJFLt-TXPJ"
      },
      "execution_count": null,
      "outputs": []
    },
    {
      "cell_type": "markdown",
      "source": [
        "## Step 3: Captura de información en una estructura de datos (DF)"
      ],
      "metadata": {
        "id": "t758BLtoVv-l"
      }
    },
    {
      "cell_type": "code",
      "source": [
        "df = pd.DataFrame(list(zip(titles, links)),\n",
        "                  columns =['Title', 'Link'])\n",
        "df = df.reset_index(drop=True)"
      ],
      "metadata": {
        "id": "mFwHYFMgU0Cd"
      },
      "execution_count": 61,
      "outputs": []
    },
    {
      "cell_type": "code",
      "source": [
        "df.head()"
      ],
      "metadata": {
        "id": "UdlHFbFfU_zi"
      },
      "execution_count": null,
      "outputs": []
    },
    {
      "cell_type": "markdown",
      "source": [
        "## Step 4: Exportacion a un archivo normal"
      ],
      "metadata": {
        "id": "12gM9sTwV8GL"
      }
    },
    {
      "cell_type": "code",
      "source": [
        "drive.mount('/content/drive')\n",
        "df.to_csv('/content/drive/My Drive/UMB/scraping/articles.csv', index=False)"
      ],
      "metadata": {
        "colab": {
          "base_uri": "https://localhost:8080/"
        },
        "id": "39y7be8iWA3Z",
        "outputId": "b324abfc-dfb0-42ed-a46a-7b3ec8df2f13"
      },
      "execution_count": 76,
      "outputs": [
        {
          "output_type": "stream",
          "name": "stdout",
          "text": [
            "Mounted at /content/drive\n"
          ]
        }
      ]
    },
    {
      "cell_type": "markdown",
      "source": [],
      "metadata": {
        "id": "L5MuwFoGVO1y"
      }
    }
  ]
}